{
  "cells": [
    {
      "cell_type": "code",
      "execution_count": null,
      "metadata": {
        "id": "9wIn3IckBFZ_",
        "colab": {
          "base_uri": "https://localhost:8080/"
        },
        "outputId": "ede273d3-2790-46d2-d825-3683c4e6e843"
      },
      "outputs": [
        {
          "output_type": "stream",
          "name": "stdout",
          "text": [
            "Using PyTorch version: 2.1.0+cu121 with device: cuda\n"
          ]
        }
      ],
      "source": [
        "import numpy as np\n",
        "import torch\n",
        "import torch.nn as nn\n",
        "import torch.nn.functional as F\n",
        "from torch.nn.parameter import Parameter\n",
        "import torch.optim as optim\n",
        "\n",
        "import matplotlib.pyplot as plt\n",
        "from os import path\n",
        "\n",
        "if torch.cuda.is_available():\n",
        "    device = torch.device('cuda')\n",
        "else:\n",
        "    device = torch.device('cpu')\n",
        "\n",
        "print('Using PyTorch version:', torch.__version__, 'with device:', device)"
      ]
    },
    {
      "cell_type": "code",
      "execution_count": null,
      "metadata": {
        "id": "SVyo3Ca_BMyl",
        "colab": {
          "base_uri": "https://localhost:8080/"
        },
        "outputId": "0bcf075d-f595-499e-b373-562a4484ee9c"
      },
      "outputs": [
        {
          "output_type": "stream",
          "name": "stdout",
          "text": [
            "Mounted at /content/drive\n"
          ]
        }
      ],
      "source": [
        "from google.colab import drive\n",
        "drive.mount('/content/drive', force_remount=True)"
      ]
    },
    {
      "cell_type": "code",
      "source": [
        "cd 'drive/My Drive/EECS 351/heat_data'"
      ],
      "metadata": {
        "colab": {
          "base_uri": "https://localhost:8080/"
        },
        "id": "i8BTUnkKBjG7",
        "outputId": "9a2c6af8-1f58-451a-bbe1-89cc691bc23f"
      },
      "execution_count": null,
      "outputs": [
        {
          "output_type": "stream",
          "name": "stdout",
          "text": [
            "/content/drive/.shortcut-targets-by-id/1D0xYdeql-CMBScKAM3catV5-NiqDNpUn/heat_data\n"
          ]
        }
      ]
    },
    {
      "cell_type": "code",
      "source": [
        "# Torch Fourier Layer\n",
        "# simplified from the original FNO paper\n",
        "class FourierLayer(nn.Module):\n",
        "  def __init__(self, size):\n",
        "    super(FourierLayer, self).__init__()\n",
        "\n",
        "    self.size = size\n",
        "    # assume we won't truncate any frequencies,\n",
        "    # just transforming all FFT output\n",
        "    # so no need for modes input/output params\n",
        "\n",
        "    self.scale = 1/(size**2) #sq matrix in freq domain\n",
        "    self.R = nn.Parameter(self.scale * torch.rand(\n",
        "        size, size, dtype=torch.cdouble))\n",
        "    self.W = nn.Parameter(torch.rand(size, size, dtype=torch.double))\n",
        "\n",
        "  def forward(self, x):\n",
        "    batchsize = x.shape[0]\n",
        "\n",
        "    x_ft = torch.fft.rfft2(x) #defaults to last 2 dims\n",
        "    out_ft = torch.matmul(self.R, x_ft)\n",
        "\n",
        "    x = torch.fft.irfft2(out_ft)\n",
        "\n",
        "    return x + torch.matmul(self.W, x)\n",
        "\n",
        "# Fourier Neural Operator, assuming square input initial conditions for PDE\n",
        "class FNO2D(nn.Module):\n",
        "  def __init__(self, image_dim):\n",
        "    super(FNO2D, self).__init__()\n",
        "\n",
        "    self.image_dim = image_dim\n",
        "\n",
        "    self.f1 = FourierLayer(image_dim)\n",
        "    self.f2 = FourierLayer(image_dim)\n",
        "    self.f3 = FourierLayer(image_dim)\n",
        "    self.f4 = FourierLayer(image_dim)\n",
        "\n",
        "  def forward(self, x):\n",
        "    batchsize = x.shape[0]\n",
        "\n",
        "    x = self.f1(x)\n",
        "    x = F.relu(x)\n",
        "\n",
        "    x = self.f2(x)\n",
        "    x = F.relu(x)\n",
        "\n",
        "    x = self.f3(x)\n",
        "    x = F.relu(x)\n",
        "\n",
        "    x = self.f4(x)\n",
        "\n",
        "    return x\n",
        "\n",
        "  def u(self, x):\n",
        "    return self.forward(x)\n",
        "\n",
        "  def data_loss(self, y, y_pred):\n",
        "    return torch.mean(torch.square(y - y_pred))\n",
        "\n",
        "  #adapting from our fpinn notebook\n",
        "  def train_FNO(self, inputs, targets, n_epochs=100, lr=5e-4, k=1):\n",
        "    optimizer = optim.Adam(self.parameters(), lr=lr)\n",
        "    train_loss_list = []\n",
        "\n",
        "    # input_images = inputs.requires_grad_()\n",
        "\n",
        "    for epoch in range(1, n_epochs + 1):\n",
        "      self.train()\n",
        "      optimizer.zero_grad()\n",
        "      train_loss = 0\n",
        "\n",
        "      outputs = self.forward(inputs)\n",
        "      loss = self.data_loss(targets, outputs)\n",
        "      loss.backward()\n",
        "      optimizer.step()\n",
        "\n",
        "      if epoch % 100 == 0 or epoch == n_epochs - 1:\n",
        "        print(f\"{epoch:5}, {loss.detach().cpu().item():.3f}\")\n",
        "\n",
        "      train_loss_list.append(loss.detach().cpu().item())\n",
        "\n",
        "    return train_loss_list\n"
      ],
      "metadata": {
        "id": "4pMAu_OlByZs"
      },
      "execution_count": null,
      "outputs": []
    },
    {
      "cell_type": "code",
      "source": [
        "inputs = []\n",
        "targets = []\n",
        "for i in range(2000):\n",
        "\n",
        "  if path.isfile('input' + str(i) + '.npy') and path.isfile('target' + str(i) + '.npy'):\n",
        "    input = torch.from_numpy(np.load('input' + str(i) + '.npy')).to(device)\n",
        "    inputs.append(input)\n",
        "\n",
        "    target = torch.from_numpy(np.load('target' + str(i) + '.npy')).to(device)\n",
        "    targets.append(target)"
      ],
      "metadata": {
        "id": "u0a1q8zuYKk8"
      },
      "execution_count": null,
      "outputs": []
    },
    {
      "cell_type": "code",
      "source": [
        "for i in range(len(inputs)):\n",
        "  inputs[i] = torch.unsqueeze(inputs[i], 0)\n",
        "  targets[i] = torch.unsqueeze(targets[i], 0)\n",
        "\n",
        "input_tensor = torch.cat(inputs, 0)\n",
        "target_tensor = torch.cat(targets, 0)"
      ],
      "metadata": {
        "id": "eR3f6jOIv3ug"
      },
      "execution_count": null,
      "outputs": []
    },
    {
      "cell_type": "code",
      "source": [
        "FNO = FNO2D(image_dim=64).to(device)\n",
        "loss_list = FNO.train_FNO(inputs=input_tensor, targets=target_tensor, n_epochs=3000)"
      ],
      "metadata": {
        "colab": {
          "base_uri": "https://localhost:8080/"
        },
        "id": "9bVTNhxItDoF",
        "outputId": "78eaf585-fdfe-4e66-ca31-0f0cef992c21"
      },
      "execution_count": null,
      "outputs": [
        {
          "output_type": "stream",
          "name": "stdout",
          "text": [
            "  100, 0.077\n",
            "  200, 0.010\n",
            "  300, 0.006\n",
            "  400, 0.004\n",
            "  500, 0.003\n",
            "  600, 0.003\n",
            "  700, 0.002\n",
            "  800, 0.002\n",
            "  900, 0.002\n",
            " 1000, 0.002\n",
            " 1100, 0.002\n",
            " 1200, 0.001\n",
            " 1300, 0.001\n",
            " 1400, 0.001\n",
            " 1500, 0.001\n",
            " 1600, 0.001\n",
            " 1700, 0.001\n",
            " 1800, 0.001\n",
            " 1900, 0.001\n",
            " 2000, 0.001\n",
            " 2100, 0.001\n",
            " 2200, 0.001\n",
            " 2300, 0.001\n",
            " 2400, 0.001\n",
            " 2500, 0.001\n",
            " 2600, 0.001\n",
            " 2700, 0.001\n",
            " 2800, 0.001\n",
            " 2900, 0.001\n",
            " 2999, 0.001\n",
            " 3000, 0.001\n"
          ]
        }
      ]
    },
    {
      "cell_type": "code",
      "source": [
        "plt.figure(figsize=(5,3))\n",
        "plt.plot(np.arange(0,3000), loss_list)"
      ],
      "metadata": {
        "colab": {
          "base_uri": "https://localhost:8080/",
          "height": 309
        },
        "id": "hhnYUMO93LOE",
        "outputId": "ff8c68c3-f1f9-4f00-d065-48cd7a13793a"
      },
      "execution_count": null,
      "outputs": [
        {
          "output_type": "execute_result",
          "data": {
            "text/plain": [
              "[<matplotlib.lines.Line2D at 0x7b55374c3ca0>]"
            ]
          },
          "metadata": {},
          "execution_count": 49
        },
        {
          "output_type": "display_data",
          "data": {
            "text/plain": [
              "<Figure size 500x300 with 1 Axes>"
            ],
            "image/png": "[encoded data removed]"
          },
          "metadata": {}
        }
      ]
    },
    {
      "cell_type": "code",
      "source": [
        "test_input = np.zeros((64, 64))\n",
        "test_input[:, 0] = 0.5\n",
        "test_input[0, :] = 0.3\n",
        "test_input[-1, :] = 0.7\n",
        "test_input[:, -1] = 0.2\n",
        "plt.imshow(test_input)\n",
        "test_input = torch.from_numpy(test_input).to(device)"
      ],
      "metadata": {
        "colab": {
          "base_uri": "https://localhost:8080/",
          "height": 432
        },
        "id": "BYMT4G8A6-wZ",
        "outputId": "226fb3fa-a989-4752-80b5-3add5fd37de0"
      },
      "execution_count": null,
      "outputs": [
        {
          "output_type": "display_data",
          "data": {
            "text/plain": [
              "<Figure size 640x480 with 1 Axes>"
            ],
            "image/png": "[encoded data removed]"
          },
          "metadata": {}
        }
      ]
    },
    {
      "cell_type": "code",
      "source": [
        "test_output = FNO(test_input).cpu().detach().numpy()\n",
        "plt.imshow(test_output)"
      ],
      "metadata": {
        "colab": {
          "base_uri": "https://localhost:8080/",
          "height": 450
        },
        "id": "9Y5CPB297V-F",
        "outputId": "0d57377f-7277-4deb-8893-3c28f91b0291"
      },
      "execution_count": null,
      "outputs": [
        {
          "output_type": "execute_result",
          "data": {
            "text/plain": [
              "<matplotlib.image.AxesImage at 0x7b554c247520>"
            ]
          },
          "metadata": {},
          "execution_count": 64
        },
        {
          "output_type": "display_data",
          "data": {
            "text/plain": [
              "<Figure size 640x480 with 1 Axes>"
            ],
            "image/png": "[encoded data removed]"
          },
          "metadata": {}
        }
      ]
    }
  ],
  "metadata": {
    "colab": {
      "provenance": [],
      "gpuType": "T4"
    },
    "kernelspec": {
      "display_name": "Python 3",
      "name": "python3"
    },
    "language_info": {
      "name": "python"
    },
    "accelerator": "GPU"
  },
  "nbformat": 4,
  "nbformat_minor": 0
}